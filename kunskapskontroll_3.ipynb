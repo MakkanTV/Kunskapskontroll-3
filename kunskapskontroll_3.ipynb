{
 "cells": [
  {
   "cell_type": "code",
   "execution_count": 23,
   "metadata": {},
   "outputs": [],
   "source": [
    "import pandas as pd\n",
    "import numpy as np\n",
    "import matplotlib as plt\n",
    "import sqlite3 as db\n",
    "import sys\n",
    "import json\n",
    "import requests\n",
    "import logging\n"
   ]
  },
  {
   "cell_type": "code",
   "execution_count": 24,
   "metadata": {},
   "outputs": [],
   "source": [
    "logger = logging.getLogger()"
   ]
  },
  {
   "cell_type": "code",
   "execution_count": 25,
   "metadata": {},
   "outputs": [],
   "source": [
    "con = db.connect('Data_sicence_SQL.db')"
   ]
  },
  {
   "cell_type": "code",
   "execution_count": 26,
   "metadata": {},
   "outputs": [],
   "source": [
    "df = pd.read_csv(r'C:\\Users\\Max\\TUC python\\Kunskapskontroll 3\\ds_salaries.csv')"
   ]
  },
  {
   "cell_type": "code",
   "execution_count": 27,
   "metadata": {},
   "outputs": [
    {
     "data": {
      "text/plain": [
       "3755"
      ]
     },
     "execution_count": 27,
     "metadata": {},
     "output_type": "execute_result"
    }
   ],
   "source": [
    "df.to_sql('ds_salaries.csv', con, if_exists='replace')"
   ]
  },
  {
   "cell_type": "code",
   "execution_count": 28,
   "metadata": {},
   "outputs": [],
   "source": [
    "API_KEY = \"929ce405b668474ea251cb0f2cb4764b\"  \n",
    "\n",
    "def bail(message):\n",
    "    logger.error(message)\n",
    "    sys.exit(1)\n",
    "\n",
    "def fetch_exchange_rate():\n",
    "    url = f\"https://api.currencyfreaks.com/v2.0/rates/latest?apikey={API_KEY}\"\n",
    "    try:\n",
    "        response = requests.get(url)\n",
    "        if response.status_code != 200:\n",
    "            raise Exception(f\"Failed to fetch currencies: {response.text}\")\n",
    "    except Exception as e:\n",
    "        raise Exception(f\"Failed to fetch currencies: {str(e)}\")\n",
    "    \n",
    "    payload = json.loads(response.text)\n",
    "    try:\n",
    "        sek_rate = float(payload[\"rates\"][\"SEK\"])  # Hämta SEK-växelkursen\n",
    "    except KeyError:\n",
    "        raise Exception(\"SEK rate not found in API response\")\n",
    "    \n",
    "    return sek_rate\n",
    "\n",
    "def convert_salaries_to_sek(salaries_df, sek_rate):\n",
    "    try:\n",
    "        # Lägg till en ny kolumn med omvandlade löner\n",
    "        salaries_df[\"salary_in_sek\"] = round(salaries_df[\"salary_in_usd\"] * sek_rate)\n",
    "    except Exception as e:\n",
    "        raise Exception(f\"Failed to convert salaries: {str(e)}\")\n",
    "    return salaries_df\n",
    "\n",
    "# def export_to_database(df):\n",
    "#      try:\n",
    "#          con = db.connect(\"data_sicence_SQL.db\")\n",
    "#          df.to_sql(\"Data_sicence_SQL.db\", con, if_exists=\"replace\", index=False)\n",
    "#         #  con.close()\n",
    "#      except Exception as e:\n",
    "#          raise Exception(f\"Failed to export to database: {str(e)}\")\n",
    "\n",
    "if __name__ == \"__main__\":\n",
    "    logging.basicConfig(filename=\"salaries.log\", level=logging.INFO, format=\"%(asctime)s %(levelname)s: %(message)s\")\n",
    "    logger = logging.getLogger()\n",
    "    \n",
    "    try:\n",
    "        # Steg 1: Hämta SEK-växelkursen\n",
    "        sek_rate = fetch_exchange_rate()\n",
    "        logger.info(f\"Fetched SEK exchange rate: {sek_rate}\")\n",
    "        \n",
    "        # Steg 2: Läs in löner från CSV\n",
    "        salaries_df = pd.read_csv(\"ds_salaries.csv\")\n",
    "        if \"salary_in_usd\" not in salaries_df.columns:\n",
    "            raise Exception(\"CSV file must contain 'salary_in_usd' column\")\n",
    "        \n",
    "        # Steg 3: Omvandla löner till SEK\n",
    "        salaries_df = convert_salaries_to_sek(salaries_df, sek_rate)\n",
    "        \n",
    "        # Steg 4: Exportera data till SQLite-databas\n",
    "        # export_to_database(salaries_df)\n",
    "        \n",
    "        logger.info(\"Salaries converted and exported successfully\")\n",
    "    except Exception as e:\n",
    "        bail(str(e))\n"
   ]
  },
  {
   "cell_type": "code",
   "execution_count": 29,
   "metadata": {},
   "outputs": [],
   "source": [
    "# Ändra \"experience level\" från förkortning till fulla ord.\n",
    "salaries_df['experience_level'] = salaries_df['experience_level'].replace({\"EN\": \"Entry-level\", \"SE\": \"Senior-level\", \"MI\": \"Mid-level\", \"EX\": \"Expert-level\"})\n",
    "\n"
   ]
  },
  {
   "cell_type": "code",
   "execution_count": 30,
   "metadata": {},
   "outputs": [
    {
     "name": "stdout",
     "output_type": "stream",
     "text": [
      "['FT' 'CT' 'FL' 'PT']\n"
     ]
    }
   ],
   "source": [
    "# Ändra \"employee-type\" från förkortning till fulla ord.\n",
    "unique_values = salaries_df[\"employment_type\"].unique()\n",
    "\n",
    "print(unique_values)\n",
    "\n",
    "salaries_df[\"employment_type\"] = salaries_df[\"employment_type\"].replace({\"FT\": \"Full-time\", \"CT\": \"Consultant\", \"FL\": \"Freelancer\", \"PT\": \"Part-time\"})\n",
    "\n",
    "\n",
    "\n"
   ]
  },
  {
   "cell_type": "code",
   "execution_count": 43,
   "metadata": {},
   "outputs": [],
   "source": [
    "salaries_df.columns\n",
    "\n",
    "salaries_df['employee_residence'] = salaries_df['employee_residence'].replace({\"ES\": \"Spain\", \"US\": \"United States\", \"CA\": \"Canada\", \"DE\": \"Germany\", \"GB\": \"Great Britain\", \"NG\": \"Nigeria\", \"IN\": \"India\", \"HK\": \"Hong Kong\", \"PT\": \"Portugal\", \"NL\": \"Netherlands\", \"CH\": \"Switzerland\", \"CF\": \"Central African Republic\", \"FI\": \"Finland\", \"UA\": \"Uruguay\", \"IE\": \"Republic of Ireland\", \"IL\": \"Israel\", \"GH\": \"Ghana\", \"AT\": \"Austria\", \"CO\":\"Colombia\", \"SG\":\"Singapore\", \"SE\": \"Sweden\", \"SI\": \"Slovenia\", \"MX\": \"Mexico\", \"UZ\": \"Uzbekistan\", \"HR\": \"Croatia\", \"PL\": \"Poland\", \"KW\": \"Kuwait\", \"VN\": \"Vietnam\", \"CY\": \"Cypern\", \"AR\": \"Argentina\", \"AM\": \"Armenia\", \"BA\": \"BosniaandHerzegovina\", \"KE\": \"Kenya\", \"GR\": \"Greece\", \"MK\": \"NorthMacedonia\", \"LV\": \"Latvia\", \"IT\": \"Italy\", \"MA\": \"Morocco\", \"LT\": \"Lithuania\", \"BE\": \"Belgium\", \"AS\": \"AmericanSamoa\", \"IR\":\"Iran\", \"HU\": \"Hungary\", \"SK\": \"Slovakia\", \"CN\": \"China\", \"CZ\": \"CzechRepublic\", \"CR\": \"CostaRica\", \"TR\": \"Turkey\", \"DK\": \"Denmark\", \"BO\": \"Bolivia\", \"PH\": \"Philippines\", \"DO\": \"DominicanRepublic\", \"EG\": \"Egypt\", \"ID\": \"Indonesia\", \"AE\": \"UnitedArabEmirates\", \"MY\": \"Malaysia\", \"JP\": \"Japan\", \"EE\": \"Estonia\", \"HN\": \"Honduras\", \"TN\": \"Tunisia\", \"IQ\": \"Iraq\", \"BG\": \"Bulgaria\", \"JE\": \"Jordanien\", \"RS\": \"Serbia\", \"NZ\": \"NewZealand\", \"MD\": \"Moldova\", \"LU\": \"Luxenbourg\", \"MT\": \"Malta\"}).str.upper()\n",
    "\n"
   ]
  },
  {
   "cell_type": "code",
   "execution_count": 42,
   "metadata": {},
   "outputs": [],
   "source": [
    "salaries_df[\"company_location\"] = salaries_df[\"company_location\"].replace({\n",
    "    \"ES\": \"SPAIN\", \"US\": \"UNITED STATES\", \"CA\": \"CANADA\", \"DE\": \"GERMANY\",\n",
    "    \"GB\": \"GREAT BRITAIN\", \"NG\": \"NIGERIA\", \"IN\": \"INDIA\", \"HK\": \"HONG KONG\",\n",
    "    \"NL\": \"NEDERLÄNDERNA\", \"CH\": \"SWITZERLAND\", \"CF\": \"CENTRAL AFRIKAN REPUBLIC\",\n",
    "    \"FR\": \"FRANKRIKE\", \"FI\": \"FINLAND\", \"UA\": \"URUGUAY\",\n",
    "    \"IE\": \"REPUBLIC OF IRELAND\", \"IL\": \"ISRAEL\", \"GH\": \"GHANA\",\n",
    "    \"CO\": \"COLOMBIA\", \"SG\": \"SENEGAL\", \"AU\": \"AUSTRALIA\",\n",
    "    \"SE\": \"SWEDEN\", \"SI\": \"SLOVENIA\", \"MX\": \"MEXICO\", \"BR\": \"BRASIL\",\n",
    "    \"PT\": \"PORTUGAL\", \"RU\": \"RUSSIA\", \"TH\": \"THAILAND\", \"HR\": \"CROATIA\",\n",
    "    \"VN\": \"VIETNAM\", \"EE\": \"ESTONIA\", \"AM\": \"ARMENIA\", \"BA\": \"BOSNIA AND HERZEGOVINA\",\n",
    "    \"KE\": \"KENYA\", \"GR\": \"GREECE\", \"MK\": \"MACEDONIA\", \"LV\": \"LATVIA\", \"RO\": \"ROMANIA\",\n",
    "    \"PK\": \"PAKISTAN\", \"IT\": \"ITALY\", \"MA\": \"MALTA\", \"PL\": \"POLAND\", \"AL\": \"ALBANIA\",\n",
    "    \"AR\": \"ARGENTINA\", \"LT\": \"LITHUANIA\", \"AS\": \"ANTARCTICA\", \"CR\": \"COSTA RICA\",\n",
    "    \"IR\": \"IRAN\", \"BS\": \"BAHAMAS\", \"HU\": \"HUNGARY\", \"AT\": \"AUSTRIA\", \"SK\": \"SLOVAKIA\",\n",
    "    \"CZ\": \"CZECH REPUBLIC\", \"TR\": \"TURKEY\", \"PR\": \"PUERTO RICO\", \"DK\": \"DENMARK\",\n",
    "    \"BO\": \"BOLIVIA\", \"PH\": \"PHILIPPINES\", \"BE\": \"BELGIUM\", \"ID\": \"INDONESIA\",\n",
    "    \"EG\": \"EGYPT\", \"AE\": \"UNITED ARAB EMIRATES\", \"LU\": \"LUXEMBOURG\", \"MY\": \"MALAYSIA\",\n",
    "    \"HN\": \"HONDURAS\", \"JP\": \"JAPAN\", \"DZ\": \"ALGERIA\", \"IQ\": \"IRAQ\", \"CN\": \"CHINA\",\n",
    "    \"CL\": \"CHILE\", \"MD\": \"MOLDOVA\", \"MT\": \"MALTA\", \"NZ\": \"NEW ZEALAND\"}).str.upper()\n",
    "\n"
   ]
  },
  {
   "cell_type": "code",
   "execution_count": 44,
   "metadata": {},
   "outputs": [
    {
     "data": {
      "text/plain": [
       "3755"
      ]
     },
     "execution_count": 44,
     "metadata": {},
     "output_type": "execute_result"
    }
   ],
   "source": [
    "salaries_df.to_sql(\"salaries\", con, if_exists=\"replace\")"
   ]
  },
  {
   "cell_type": "code",
   "execution_count": null,
   "metadata": {},
   "outputs": [],
   "source": [
    "start_year = 2022\n",
    "end_year = 2022\n",
    "\n",
    "df[(df[\"work_year\"] >= start_year) & (df[\"work_year\"] <= end_year)]\n",
    "\n"
   ]
  },
  {
   "cell_type": "code",
   "execution_count": 14,
   "metadata": {},
   "outputs": [],
   "source": [
    "filterd_df = df[[\"work_year\", \"remote_ratio\"]]"
   ]
  },
  {
   "cell_type": "code",
   "execution_count": null,
   "metadata": {},
   "outputs": [],
   "source": [
    "\n",
    "\n",
    "# count_2022 = filterd_df[(filterd_df[\"remote_ratio\"] == 100) & (filterd_df[\"work_year\"] == 2021).shape[0]]\n",
    "\n",
    "filterd_df.groupby([\"work_year\", \"remote_ratio\"]).size()\n",
    "\n",
    "\n"
   ]
  },
  {
   "cell_type": "code",
   "execution_count": 51,
   "metadata": {},
   "outputs": [
    {
     "data": {
      "text/html": [
       "<div>\n",
       "<style scoped>\n",
       "    .dataframe tbody tr th:only-of-type {\n",
       "        vertical-align: middle;\n",
       "    }\n",
       "\n",
       "    .dataframe tbody tr th {\n",
       "        vertical-align: top;\n",
       "    }\n",
       "\n",
       "    .dataframe thead th {\n",
       "        text-align: right;\n",
       "    }\n",
       "</style>\n",
       "<table border=\"1\" class=\"dataframe\">\n",
       "  <thead>\n",
       "    <tr style=\"text-align: right;\">\n",
       "      <th></th>\n",
       "      <th>work_year</th>\n",
       "      <th>remote_ratio</th>\n",
       "    </tr>\n",
       "  </thead>\n",
       "  <tbody>\n",
       "    <tr>\n",
       "      <th>0</th>\n",
       "      <td>2020</td>\n",
       "      <td>39</td>\n",
       "    </tr>\n",
       "    <tr>\n",
       "      <th>1</th>\n",
       "      <td>2021</td>\n",
       "      <td>120</td>\n",
       "    </tr>\n",
       "    <tr>\n",
       "      <th>2</th>\n",
       "      <td>2022</td>\n",
       "      <td>891</td>\n",
       "    </tr>\n",
       "    <tr>\n",
       "      <th>3</th>\n",
       "      <td>2023</td>\n",
       "      <td>593</td>\n",
       "    </tr>\n",
       "  </tbody>\n",
       "</table>\n",
       "</div>"
      ],
      "text/plain": [
       "   work_year  remote_ratio\n",
       "0       2020            39\n",
       "1       2021           120\n",
       "2       2022           891\n",
       "3       2023           593"
      ]
     },
     "execution_count": 51,
     "metadata": {},
     "output_type": "execute_result"
    }
   ],
   "source": [
    "new_df = pd.DataFrame({\"work_year\": [2020, 2021, 2022, 2023], \"remote_ratio\": [39, 120, 891, 593]})\n",
    "\n",
    "new_df\n"
   ]
  },
  {
   "cell_type": "code",
   "execution_count": null,
   "metadata": {},
   "outputs": [],
   "source": [
    "print(df.loc[[0, 1]])"
   ]
  },
  {
   "cell_type": "code",
   "execution_count": 50,
   "metadata": {},
   "outputs": [
    {
     "data": {
      "text/plain": [
       "<Axes: xlabel='work_year'>"
      ]
     },
     "execution_count": 50,
     "metadata": {},
     "output_type": "execute_result"
    },
    {
     "data": {
      "image/png": "[encoded data removed]",
      "text/plain": [
       "<Figure size 640x480 with 1 Axes>"
      ]
     },
     "metadata": {},
     "output_type": "display_data"
    }
   ],
   "source": [
    "new_df.plot(kind=\"bar\", x = \"work_year\", y = \"remote_ratio\")\n",
    "\n",
    "\n"
   ]
  },
  {
   "cell_type": "code",
   "execution_count": null,
   "metadata": {},
   "outputs": [],
   "source": [
    "\n",
    "new_df = df.to_sql(\"Data_sicence_SQL.db\", con, if_exists=\"replace\")\n",
    "\n",
    "print(new_df)\n",
    "\n",
    "\n"
   ]
  },
  {
   "cell_type": "code",
   "execution_count": null,
   "metadata": {},
   "outputs": [],
   "source": [
    "try:\n",
    "    con = db.connect('Data_sicence_SQL.db')\n",
    "    print(\"Anslutning lyckades!\")\n",
    "except db.Error as e:\n",
    "    print(f\"Fel vid anslutning: {e}\")\n",
    "#finally:\n",
    "    #if 'con' in locals():\n",
    "    #con.close()"
   ]
  },
  {
   "cell_type": "code",
   "execution_count": 52,
   "metadata": {},
   "outputs": [
    {
     "name": "stdout",
     "output_type": "stream",
     "text": [
      "['FT' 'CT' 'FL' 'PT']\n"
     ]
    }
   ],
   "source": [
    "print(\"employee_residence\")"
   ]
  }
 ],
 "metadata": {
  "kernelspec": {
   "display_name": ".venv",
   "language": "python",
   "name": "python3"
  },
  "language_info": {
   "codemirror_mode": {
    "name": "ipython",
    "version": 3
   },
   "file_extension": ".py",
   "mimetype": "text/x-python",
   "name": "python",
   "nbconvert_exporter": "python",
   "pygments_lexer": "ipython3",
   "version": "3.13.1"
  }
 },
 "nbformat": 4,
 "nbformat_minor": 2
}
